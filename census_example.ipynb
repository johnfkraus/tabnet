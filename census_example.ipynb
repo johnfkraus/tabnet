{
 "cells": [
  {
   "cell_type": "code",
   "execution_count": 1,
   "metadata": {},
   "outputs": [],
   "source": [
    "from pytorch_tabnet.tab_model import TabNetClassifier\n",
    "\n",
    "import torch\n",
    "from sklearn.preprocessing import LabelEncoder\n",
    "from sklearn.metrics import roc_auc_score\n",
    "\n",
    "import pandas as pd\n",
    "import numpy as np\n",
    "np.random.seed(0)\n",
    "\n",
    "\n",
    "import os\n",
    "import wget\n",
    "from pathlib import Path\n",
    "\n",
    "from matplotlib import pyplot as plt\n",
    "%matplotlib inline"
   ]
  },
  {
   "cell_type": "markdown",
   "metadata": {},
   "source": [
    "Based on this YouTube video: https://www.youtube.com/watch?v=ysBaZO8YmX8&ab_channel=AbhishekThakur\n",
    "We are trying to use census data to predict whether income > $50K.\n"
   ]
  },
  {
   "cell_type": "code",
   "execution_count": 2,
   "metadata": {},
   "outputs": [],
   "source": [
    "import os\n",
    "os.environ['CUDA_VISIBLE_DEVICES'] = f\"1\""
   ]
  },
  {
   "cell_type": "code",
   "execution_count": 3,
   "metadata": {},
   "outputs": [
    {
     "data": {
      "text/plain": [
       "'1.4.0'"
      ]
     },
     "execution_count": 3,
     "metadata": {},
     "output_type": "execute_result"
    }
   ],
   "source": [
    "import torch\n",
    "torch.__version__"
   ]
  },
  {
   "cell_type": "markdown",
   "metadata": {},
   "source": [
    "# Download census-income dataset"
   ]
  },
  {
   "cell_type": "code",
   "execution_count": 4,
   "metadata": {},
   "outputs": [],
   "source": [
    "url = \"https://archive.ics.uci.edu/ml/machine-learning-databases/adult/adult.data\"\n",
    "dataset_name = 'census-income'\n",
    "out = Path(os.getcwd()+'/data/'+dataset_name+'.csv')"
   ]
  },
  {
   "cell_type": "code",
   "execution_count": 34,
   "metadata": {},
   "outputs": [
    {
     "name": "stdout",
     "output_type": "stream",
     "text": [
      "census-income.csv\r\n"
     ]
    }
   ],
   "source": [
    "!ls data"
   ]
  },
  {
   "cell_type": "code",
   "execution_count": 5,
   "metadata": {},
   "outputs": [
    {
     "name": "stdout",
     "output_type": "stream",
     "text": [
      "Downloading file...\n"
     ]
    }
   ],
   "source": [
    "out.parent.mkdir(parents=True, exist_ok=True)\n",
    "if out.exists():\n",
    "    print(\"File already exists.\")\n",
    "else:\n",
    "    print(\"Downloading file...\")\n",
    "    wget.download(url, out.as_posix())"
   ]
  },
  {
   "cell_type": "markdown",
   "metadata": {},
   "source": [
    "# Load data and split"
   ]
  },
  {
   "cell_type": "code",
   "execution_count": 6,
   "metadata": {},
   "outputs": [],
   "source": [
    "train = pd.read_csv(out)\n",
    "target = ' <=50K'\n",
    "if \"Set\" not in train.columns:\n",
    "    train[\"Set\"] = np.random.choice([\"train\", \"valid\", \"test\"], p =[.8, .1, .1], size=(train.shape[0],))\n",
    "\n",
    "train_indices = train[train.Set==\"train\"].index\n",
    "valid_indices = train[train.Set==\"valid\"].index\n",
    "test_indices = train[train.Set==\"test\"].index"
   ]
  },
  {
   "cell_type": "markdown",
   "metadata": {},
   "source": [
    "# Simple preprocessing\n",
    "\n",
    "Label encode categorical features and fill empty cells."
   ]
  },
  {
   "cell_type": "code",
   "execution_count": 7,
   "metadata": {},
   "outputs": [
    {
     "name": "stdout",
     "output_type": "stream",
     "text": [
      "39 73\n",
      " State-gov 9\n",
      " Bachelors 16\n",
      " 13 16\n",
      " Never-married 7\n",
      " Adm-clerical 15\n",
      " Not-in-family 6\n",
      " White 5\n",
      " Male 2\n",
      " 2174 119\n",
      " 0 92\n",
      " 40 94\n",
      " United-States 42\n",
      " <=50K 2\n",
      "Set 3\n"
     ]
    }
   ],
   "source": [
    "nunique = train.nunique()\n",
    "types = train.dtypes\n",
    "\n",
    "categorical_columns = []\n",
    "categorical_dims =  {}\n",
    "for col in train.columns:\n",
    "    if types[col] == 'object' or nunique[col] < 200:\n",
    "        print(col, train[col].nunique())\n",
    "        l_enc = LabelEncoder()\n",
    "        train[col] = train[col].fillna(\"VV_likely\")\n",
    "        train[col] = l_enc.fit_transform(train[col].values)\n",
    "        categorical_columns.append(col)\n",
    "        categorical_dims[col] = len(l_enc.classes_)\n",
    "    else:\n",
    "        train.fillna(train.loc[train_indices, col].mean(), inplace=True)"
   ]
  },
  {
   "cell_type": "code",
   "execution_count": 8,
   "metadata": {},
   "outputs": [],
   "source": [
    "# check that pipeline accepts strings\n",
    "train.loc[train[target]==0, target] = \"wealthy\"\n",
    "train.loc[train[target]==1, target] = \"not_wealthy\""
   ]
  },
  {
   "cell_type": "markdown",
   "metadata": {},
   "source": [
    "# Define categorical features for categorical embeddings"
   ]
  },
  {
   "cell_type": "code",
   "execution_count": 9,
   "metadata": {},
   "outputs": [],
   "source": [
    "unused_feat = ['Set']\n",
    "\n",
    "features = [ col for col in train.columns if col not in unused_feat+[target]] \n",
    "\n",
    "cat_idxs = [ i for i, f in enumerate(features) if f in categorical_columns]\n",
    "\n",
    "cat_dims = [ categorical_dims[f] for i, f in enumerate(features) if f in categorical_columns]\n"
   ]
  },
  {
   "cell_type": "markdown",
   "metadata": {},
   "source": [
    "# Grouped features\n",
    "\n",
    "You can now specify groups of feature which will share a common attention.\n",
    "\n",
    "This may be very usefull for features comming from a same preprocessing technique like PCA for example."
   ]
  },
  {
   "cell_type": "code",
   "execution_count": 10,
   "metadata": {},
   "outputs": [
    {
     "data": {
      "text/plain": [
       "14"
      ]
     },
     "execution_count": 10,
     "metadata": {},
     "output_type": "execute_result"
    }
   ],
   "source": [
    "len(features)"
   ]
  },
  {
   "cell_type": "code",
   "execution_count": 11,
   "metadata": {},
   "outputs": [],
   "source": [
    "grouped_features = [[0, 1, 2], [8, 9, 10]]"
   ]
  },
  {
   "cell_type": "markdown",
   "metadata": {},
   "source": [
    "# Network parameters"
   ]
  },
  {
   "cell_type": "code",
   "execution_count": 12,
   "metadata": {},
   "outputs": [
    {
     "name": "stderr",
     "output_type": "stream",
     "text": [
      "/Users/john.kraus/workspaces/mysnorkel/tabnet/pytorch_tabnet/abstract_model.py:80: UserWarning: Device used : cpu\n",
      "  warnings.warn(f\"Device used : {self.device}\")\n"
     ]
    }
   ],
   "source": [
    "tabnet_params = {\"cat_idxs\":cat_idxs,\n",
    "                 \"cat_dims\":cat_dims,\n",
    "                 \"cat_emb_dim\":2,\n",
    "                 \"optimizer_fn\":torch.optim.Adam,\n",
    "                 \"optimizer_params\":dict(lr=2e-2),\n",
    "                 \"scheduler_params\":{\"step_size\":50, # how to use learning rate scheduler\n",
    "                                 \"gamma\":0.9},\n",
    "                 \"scheduler_fn\":torch.optim.lr_scheduler.StepLR,\n",
    "                 \"mask_type\":'entmax', # \"sparsemax\"\n",
    "                 \"grouped_features\" : grouped_features\n",
    "                }\n",
    "\n",
    "clf = TabNetClassifier(**tabnet_params\n",
    "                      )"
   ]
  },
  {
   "cell_type": "markdown",
   "metadata": {},
   "source": [
    "# Training"
   ]
  },
  {
   "cell_type": "code",
   "execution_count": 13,
   "metadata": {},
   "outputs": [],
   "source": [
    "X_train = train[features].values[train_indices]\n",
    "y_train = train[target].values[train_indices]\n",
    "\n",
    "X_valid = train[features].values[valid_indices]\n",
    "y_valid = train[target].values[valid_indices]\n",
    "\n",
    "X_test = train[features].values[test_indices]\n",
    "y_test = train[target].values[test_indices]"
   ]
  },
  {
   "cell_type": "code",
   "execution_count": 14,
   "metadata": {},
   "outputs": [],
   "source": [
    "max_epochs = 50 if not os.getenv(\"CI\", False) else 2"
   ]
  },
  {
   "cell_type": "code",
   "execution_count": 15,
   "metadata": {},
   "outputs": [],
   "source": [
    "from pytorch_tabnet.augmentations import ClassificationSMOTE\n",
    "aug = ClassificationSMOTE(p=0.2)"
   ]
  },
  {
   "cell_type": "code",
   "execution_count": 16,
   "metadata": {
    "scrolled": true
   },
   "outputs": [
    {
     "name": "stdout",
     "output_type": "stream",
     "text": [
      "epoch 0  | loss: 0.57611 | train_auc: 0.81078 | valid_auc: 0.81313 |  0:00:03s\n",
      "epoch 1  | loss: 0.4725  | train_auc: 0.86473 | valid_auc: 0.8683  |  0:00:06s\n",
      "epoch 2  | loss: 0.4497  | train_auc: 0.87743 | valid_auc: 0.88478 |  0:00:10s\n",
      "epoch 3  | loss: 0.43565 | train_auc: 0.89166 | valid_auc: 0.89716 |  0:00:13s\n",
      "epoch 4  | loss: 0.42727 | train_auc: 0.89929 | valid_auc: 0.90368 |  0:00:16s\n",
      "epoch 5  | loss: 0.4135  | train_auc: 0.90833 | valid_auc: 0.90997 |  0:00:20s\n",
      "epoch 6  | loss: 0.39873 | train_auc: 0.91225 | valid_auc: 0.91554 |  0:00:24s\n",
      "epoch 7  | loss: 0.39542 | train_auc: 0.91825 | valid_auc: 0.9189  |  0:00:27s\n",
      "epoch 8  | loss: 0.38902 | train_auc: 0.91946 | valid_auc: 0.92199 |  0:00:31s\n",
      "epoch 9  | loss: 0.38279 | train_auc: 0.92087 | valid_auc: 0.92245 |  0:00:34s\n",
      "epoch 10 | loss: 0.37947 | train_auc: 0.92418 | valid_auc: 0.92389 |  0:00:38s\n",
      "epoch 11 | loss: 0.37598 | train_auc: 0.92597 | valid_auc: 0.92445 |  0:00:41s\n",
      "epoch 12 | loss: 0.37558 | train_auc: 0.92774 | valid_auc: 0.9259  |  0:00:44s\n",
      "epoch 13 | loss: 0.36331 | train_auc: 0.92761 | valid_auc: 0.92696 |  0:00:48s\n",
      "epoch 14 | loss: 0.36786 | train_auc: 0.92913 | valid_auc: 0.9254  |  0:00:51s\n",
      "epoch 15 | loss: 0.36672 | train_auc: 0.93017 | valid_auc: 0.92343 |  0:00:55s\n",
      "epoch 16 | loss: 0.35926 | train_auc: 0.93006 | valid_auc: 0.9245  |  0:00:58s\n",
      "epoch 17 | loss: 0.36262 | train_auc: 0.93052 | valid_auc: 0.92508 |  0:01:02s\n",
      "epoch 18 | loss: 0.36446 | train_auc: 0.93195 | valid_auc: 0.92516 |  0:01:06s\n",
      "epoch 19 | loss: 0.36452 | train_auc: 0.93144 | valid_auc: 0.92545 |  0:01:10s\n",
      "epoch 20 | loss: 0.35989 | train_auc: 0.93207 | valid_auc: 0.92528 |  0:01:13s\n",
      "epoch 21 | loss: 0.35935 | train_auc: 0.9331  | valid_auc: 0.92396 |  0:01:17s\n",
      "epoch 22 | loss: 0.35818 | train_auc: 0.93375 | valid_auc: 0.92421 |  0:01:21s\n",
      "epoch 23 | loss: 0.36172 | train_auc: 0.93419 | valid_auc: 0.92477 |  0:01:25s\n",
      "epoch 24 | loss: 0.35593 | train_auc: 0.93457 | valid_auc: 0.92378 |  0:01:28s\n",
      "epoch 25 | loss: 0.35728 | train_auc: 0.93425 | valid_auc: 0.9241  |  0:01:32s\n",
      "epoch 26 | loss: 0.35394 | train_auc: 0.93535 | valid_auc: 0.924   |  0:01:35s\n",
      "epoch 27 | loss: 0.35474 | train_auc: 0.93493 | valid_auc: 0.92362 |  0:01:39s\n",
      "epoch 28 | loss: 0.35588 | train_auc: 0.93609 | valid_auc: 0.92525 |  0:01:42s\n",
      "epoch 29 | loss: 0.35456 | train_auc: 0.93636 | valid_auc: 0.92366 |  0:01:46s\n",
      "epoch 30 | loss: 0.3534  | train_auc: 0.93654 | valid_auc: 0.92468 |  0:01:49s\n",
      "epoch 31 | loss: 0.35809 | train_auc: 0.93727 | valid_auc: 0.92521 |  0:01:52s\n",
      "epoch 32 | loss: 0.34844 | train_auc: 0.93825 | valid_auc: 0.92368 |  0:01:56s\n",
      "epoch 33 | loss: 0.35187 | train_auc: 0.93749 | valid_auc: 0.92375 |  0:01:59s\n",
      "\n",
      "Early stopping occurred at epoch 33 with best_epoch = 13 and best_valid_auc = 0.92696\n"
     ]
    },
    {
     "name": "stderr",
     "output_type": "stream",
     "text": [
      "/Users/john.kraus/workspaces/mysnorkel/tabnet/pytorch_tabnet/callbacks.py:172: UserWarning: Best weights from best epoch are automatically used!\n",
      "  warnings.warn(wrn_msg)\n"
     ]
    },
    {
     "name": "stdout",
     "output_type": "stream",
     "text": [
      "epoch 0  | loss: 0.57611 | train_auc: 0.81078 | valid_auc: 0.81313 |  0:00:03s\n",
      "epoch 1  | loss: 0.4725  | train_auc: 0.86473 | valid_auc: 0.8683  |  0:00:07s\n",
      "epoch 2  | loss: 0.4497  | train_auc: 0.87743 | valid_auc: 0.88478 |  0:00:11s\n",
      "epoch 3  | loss: 0.43565 | train_auc: 0.89166 | valid_auc: 0.89716 |  0:00:14s\n",
      "epoch 4  | loss: 0.42727 | train_auc: 0.89929 | valid_auc: 0.90368 |  0:00:18s\n",
      "epoch 5  | loss: 0.4135  | train_auc: 0.90833 | valid_auc: 0.90997 |  0:00:21s\n",
      "epoch 6  | loss: 0.39873 | train_auc: 0.91225 | valid_auc: 0.91554 |  0:00:25s\n",
      "epoch 7  | loss: 0.39542 | train_auc: 0.91825 | valid_auc: 0.9189  |  0:00:29s\n",
      "epoch 8  | loss: 0.38902 | train_auc: 0.91946 | valid_auc: 0.92199 |  0:00:32s\n",
      "epoch 9  | loss: 0.38279 | train_auc: 0.92087 | valid_auc: 0.92245 |  0:00:36s\n",
      "epoch 10 | loss: 0.37947 | train_auc: 0.92418 | valid_auc: 0.92389 |  0:00:39s\n",
      "epoch 11 | loss: 0.37598 | train_auc: 0.92597 | valid_auc: 0.92445 |  0:00:44s\n",
      "epoch 12 | loss: 0.37558 | train_auc: 0.92774 | valid_auc: 0.9259  |  0:00:48s\n",
      "epoch 13 | loss: 0.36331 | train_auc: 0.92761 | valid_auc: 0.92696 |  0:00:52s\n",
      "epoch 14 | loss: 0.36786 | train_auc: 0.92913 | valid_auc: 0.9254  |  0:00:56s\n",
      "epoch 15 | loss: 0.36672 | train_auc: 0.93017 | valid_auc: 0.92343 |  0:00:59s\n",
      "epoch 16 | loss: 0.35926 | train_auc: 0.93006 | valid_auc: 0.9245  |  0:01:02s\n",
      "epoch 17 | loss: 0.36262 | train_auc: 0.93052 | valid_auc: 0.92508 |  0:01:06s\n",
      "epoch 18 | loss: 0.36446 | train_auc: 0.93195 | valid_auc: 0.92516 |  0:01:09s\n",
      "epoch 19 | loss: 0.36452 | train_auc: 0.93144 | valid_auc: 0.92545 |  0:01:13s\n",
      "epoch 20 | loss: 0.35989 | train_auc: 0.93207 | valid_auc: 0.92528 |  0:01:17s\n",
      "epoch 21 | loss: 0.35935 | train_auc: 0.9331  | valid_auc: 0.92396 |  0:01:20s\n",
      "epoch 22 | loss: 0.35818 | train_auc: 0.93375 | valid_auc: 0.92421 |  0:01:24s\n",
      "epoch 23 | loss: 0.36172 | train_auc: 0.93419 | valid_auc: 0.92477 |  0:01:27s\n",
      "epoch 24 | loss: 0.35593 | train_auc: 0.93457 | valid_auc: 0.92378 |  0:01:31s\n",
      "epoch 25 | loss: 0.35728 | train_auc: 0.93425 | valid_auc: 0.9241  |  0:01:34s\n",
      "epoch 26 | loss: 0.35394 | train_auc: 0.93535 | valid_auc: 0.924   |  0:01:38s\n",
      "epoch 27 | loss: 0.35474 | train_auc: 0.93493 | valid_auc: 0.92362 |  0:01:41s\n",
      "epoch 28 | loss: 0.35588 | train_auc: 0.93609 | valid_auc: 0.92525 |  0:01:44s\n",
      "epoch 29 | loss: 0.35456 | train_auc: 0.93636 | valid_auc: 0.92366 |  0:01:48s\n",
      "epoch 30 | loss: 0.3534  | train_auc: 0.93654 | valid_auc: 0.92468 |  0:01:51s\n",
      "epoch 31 | loss: 0.35809 | train_auc: 0.93727 | valid_auc: 0.92521 |  0:01:55s\n",
      "epoch 32 | loss: 0.34844 | train_auc: 0.93825 | valid_auc: 0.92368 |  0:01:58s\n",
      "epoch 33 | loss: 0.35187 | train_auc: 0.93749 | valid_auc: 0.92375 |  0:02:01s\n",
      "\n",
      "Early stopping occurred at epoch 33 with best_epoch = 13 and best_valid_auc = 0.92696\n"
     ]
    },
    {
     "name": "stderr",
     "output_type": "stream",
     "text": [
      "/Users/john.kraus/workspaces/mysnorkel/tabnet/pytorch_tabnet/callbacks.py:172: UserWarning: Best weights from best epoch are automatically used!\n",
      "  warnings.warn(wrn_msg)\n"
     ]
    }
   ],
   "source": [
    "# This illustrates the warm_start=False behaviour\n",
    "save_history = []\n",
    "for _ in range(2):\n",
    "    clf.fit(\n",
    "        X_train=X_train, y_train=y_train,\n",
    "        eval_set=[(X_train, y_train), (X_valid, y_valid)],\n",
    "        eval_name=['train', 'valid'],\n",
    "        eval_metric=['auc'],\n",
    "        max_epochs=max_epochs , patience=20,\n",
    "        batch_size=1024, virtual_batch_size=128,\n",
    "        num_workers=0,\n",
    "        weights=1,\n",
    "        drop_last=False,\n",
    "        augmentations=aug, #aug, None\n",
    "    )\n",
    "    save_history.append(clf.history[\"valid_auc\"])\n",
    "\n",
    "assert(np.all(np.array(save_history[0]==np.array(save_history[1]))))"
   ]
  },
  {
   "cell_type": "code",
   "execution_count": 17,
   "metadata": {},
   "outputs": [
    {
     "data": {
      "text/plain": [
       "[<matplotlib.lines.Line2D at 0x168c6ef50>]"
      ]
     },
     "execution_count": 17,
     "metadata": {},
     "output_type": "execute_result"
    },
    {
     "data": {
      "image/png": "[encoded data removed]",
      "text/plain": [
       "<Figure size 432x288 with 1 Axes>"
      ]
     },
     "metadata": {
      "needs_background": "light"
     },
     "output_type": "display_data"
    }
   ],
   "source": [
    "# plot losses\n",
    "plt.plot(clf.history['loss'])"
   ]
  },
  {
   "cell_type": "code",
   "execution_count": 18,
   "metadata": {},
   "outputs": [
    {
     "data": {
      "text/plain": [
       "[<matplotlib.lines.Line2D at 0x16895bd10>]"
      ]
     },
     "execution_count": 18,
     "metadata": {},
     "output_type": "execute_result"
    },
    {
     "data": {
      "image/png": "[encoded data removed]",
      "text/plain": [
       "<Figure size 432x288 with 1 Axes>"
      ]
     },
     "metadata": {
      "needs_background": "light"
     },
     "output_type": "display_data"
    }
   ],
   "source": [
    "# plot auc\n",
    "plt.plot(clf.history['train_auc'])\n",
    "plt.plot(clf.history['valid_auc'])"
   ]
  },
  {
   "cell_type": "code",
   "execution_count": 19,
   "metadata": {},
   "outputs": [
    {
     "data": {
      "text/plain": [
       "[<matplotlib.lines.Line2D at 0x168bd5490>]"
      ]
     },
     "execution_count": 19,
     "metadata": {},
     "output_type": "execute_result"
    },
    {
     "data": {
      "image/png": "[encoded data removed]",
      "text/plain": [
       "<Figure size 432x288 with 1 Axes>"
      ]
     },
     "metadata": {
      "needs_background": "light"
     },
     "output_type": "display_data"
    }
   ],
   "source": [
    "# plot learning rates\n",
    "plt.plot(clf.history['lr'])"
   ]
  },
  {
   "cell_type": "markdown",
   "metadata": {},
   "source": [
    "## Predictions"
   ]
  },
  {
   "cell_type": "code",
   "execution_count": 20,
   "metadata": {},
   "outputs": [
    {
     "name": "stdout",
     "output_type": "stream",
     "text": [
      "BEST VALID SCORE FOR census-income : 0.9269578104656638\n",
      "FINAL TEST SCORE FOR census-income : 0.9241850339579829\n"
     ]
    }
   ],
   "source": [
    "preds = clf.predict_proba(X_test)\n",
    "test_auc = roc_auc_score(y_score=preds[:,1], y_true=y_test)\n",
    "\n",
    "\n",
    "preds_valid = clf.predict_proba(X_valid)\n",
    "valid_auc = roc_auc_score(y_score=preds_valid[:,1], y_true=y_valid)\n",
    "\n",
    "print(f\"BEST VALID SCORE FOR {dataset_name} : {clf.best_cost}\")\n",
    "print(f\"FINAL TEST SCORE FOR {dataset_name} : {test_auc}\")"
   ]
  },
  {
   "cell_type": "code",
   "execution_count": 21,
   "metadata": {},
   "outputs": [],
   "source": [
    "# check that best weights are used\n",
    "assert np.isclose(valid_auc, np.max(clf.history['valid_auc']), atol=1e-6)"
   ]
  },
  {
   "cell_type": "code",
   "execution_count": 22,
   "metadata": {},
   "outputs": [
    {
     "data": {
      "text/plain": [
       "array(['not_wealthy', 'not_wealthy', 'wealthy', ..., 'not_wealthy',\n",
       "       'not_wealthy', 'wealthy'], dtype='<U11')"
      ]
     },
     "execution_count": 22,
     "metadata": {},
     "output_type": "execute_result"
    }
   ],
   "source": [
    "clf.predict(X_test)"
   ]
  },
  {
   "cell_type": "markdown",
   "metadata": {},
   "source": [
    "# Save and load Model"
   ]
  },
  {
   "cell_type": "code",
   "execution_count": 23,
   "metadata": {},
   "outputs": [
    {
     "name": "stdout",
     "output_type": "stream",
     "text": [
      "Successfully saved model at ./tabnet_model_test_1.zip\n"
     ]
    }
   ],
   "source": [
    "# save tabnet model\n",
    "saving_path_name = \"./tabnet_model_test_1\"\n",
    "saved_filepath = clf.save_model(saving_path_name)"
   ]
  },
  {
   "cell_type": "code",
   "execution_count": 24,
   "metadata": {},
   "outputs": [
    {
     "name": "stderr",
     "output_type": "stream",
     "text": [
      "/Users/john.kraus/workspaces/mysnorkel/tabnet/pytorch_tabnet/abstract_model.py:80: UserWarning: Device used : cpu\n",
      "  warnings.warn(f\"Device used : {self.device}\")\n"
     ]
    }
   ],
   "source": [
    "# define new model with basic parameters and load state dict weights\n",
    "loaded_clf = TabNetClassifier()\n",
    "loaded_clf.load_model(saved_filepath)"
   ]
  },
  {
   "cell_type": "code",
   "execution_count": 25,
   "metadata": {},
   "outputs": [
    {
     "name": "stdout",
     "output_type": "stream",
     "text": [
      "FINAL TEST SCORE FOR census-income : 0.9241850339579829\n"
     ]
    }
   ],
   "source": [
    "loaded_preds = loaded_clf.predict_proba(X_test)\n",
    "loaded_test_auc = roc_auc_score(y_score=loaded_preds[:,1], y_true=y_test)\n",
    "\n",
    "print(f\"FINAL TEST SCORE FOR {dataset_name} : {loaded_test_auc}\")"
   ]
  },
  {
   "cell_type": "code",
   "execution_count": 26,
   "metadata": {},
   "outputs": [],
   "source": [
    "assert(test_auc == loaded_test_auc)"
   ]
  },
  {
   "cell_type": "code",
   "execution_count": 27,
   "metadata": {},
   "outputs": [
    {
     "data": {
      "text/plain": [
       "array(['not_wealthy', 'not_wealthy', 'wealthy', ..., 'not_wealthy',\n",
       "       'not_wealthy', 'wealthy'], dtype='<U11')"
      ]
     },
     "execution_count": 27,
     "metadata": {},
     "output_type": "execute_result"
    }
   ],
   "source": [
    "loaded_clf.predict(X_test)"
   ]
  },
  {
   "cell_type": "markdown",
   "metadata": {},
   "source": [
    "# Global explainability : feat importance summing to 1"
   ]
  },
  {
   "cell_type": "code",
   "execution_count": 28,
   "metadata": {},
   "outputs": [
    {
     "data": {
      "text/plain": [
       "array([0.03673284, 0.03673284, 0.03673284, 0.01220368, 0.17774592,\n",
       "       0.29931773, 0.07849276, 0.01461586, 0.04923605, 0.04923605,\n",
       "       0.04923605, 0.10437256, 0.05339876, 0.00194608])"
      ]
     },
     "execution_count": 28,
     "metadata": {},
     "output_type": "execute_result"
    }
   ],
   "source": [
    "clf.feature_importances_"
   ]
  },
  {
   "cell_type": "markdown",
   "metadata": {},
   "source": [
    "# Local explainability and masks"
   ]
  },
  {
   "cell_type": "code",
   "execution_count": 29,
   "metadata": {},
   "outputs": [],
   "source": [
    "explain_matrix, masks = clf.explain(X_test)"
   ]
  },
  {
   "cell_type": "code",
   "execution_count": 30,
   "metadata": {},
   "outputs": [
    {
     "data": {
      "image/png": "[encoded data removed]",
      "text/plain": [
       "<Figure size 1440x1440 with 3 Axes>"
      ]
     },
     "metadata": {
      "needs_background": "light"
     },
     "output_type": "display_data"
    }
   ],
   "source": [
    "fig, axs = plt.subplots(1, 3, figsize=(20,20))\n",
    "\n",
    "\n",
    "for i in range(3):\n",
    "    axs[i].imshow(masks[i][:50])\n",
    "    axs[i].set_title(f\"mask {i}\")\n",
    "    axs[i].set_xticklabels(labels = features, rotation=45)"
   ]
  },
  {
   "cell_type": "markdown",
   "metadata": {},
   "source": [
    "# XGB"
   ]
  },
  {
   "cell_type": "code",
   "execution_count": 31,
   "metadata": {
    "scrolled": true
   },
   "outputs": [
    {
     "name": "stdout",
     "output_type": "stream",
     "text": [
      "[0]\tvalidation_0-error:0.137224\n",
      "Will train until validation_0-error hasn't improved in 40 rounds.\n",
      "[10]\tvalidation_0-error:0.129152\n",
      "[20]\tvalidation_0-error:0.126669\n",
      "[30]\tvalidation_0-error:0.124806\n",
      "[40]\tvalidation_0-error:0.124806\n",
      "[50]\tvalidation_0-error:0.124185\n",
      "[60]\tvalidation_0-error:0.124185\n",
      "[70]\tvalidation_0-error:0.124185\n",
      "[80]\tvalidation_0-error:0.124495\n",
      "[90]\tvalidation_0-error:0.123254\n",
      "[100]\tvalidation_0-error:0.122012\n",
      "[110]\tvalidation_0-error:0.121701\n",
      "[120]\tvalidation_0-error:0.122012\n",
      "[130]\tvalidation_0-error:0.122322\n",
      "[140]\tvalidation_0-error:0.122943\n",
      "Stopping. Best iteration:\n",
      "[103]\tvalidation_0-error:0.12108\n",
      "\n"
     ]
    },
    {
     "data": {
      "text/plain": [
       "XGBClassifier(max_depth=8, n_estimators=1000, n_jobs=-1, subsample=0.7,\n",
       "              verbosity=0)"
      ]
     },
     "execution_count": 31,
     "metadata": {},
     "output_type": "execute_result"
    }
   ],
   "source": [
    "from xgboost import XGBClassifier\n",
    "\n",
    "clf_xgb = XGBClassifier(max_depth=8,\n",
    "    learning_rate=0.1,\n",
    "    n_estimators=1000,\n",
    "    verbosity=0,\n",
    "    silent=None,\n",
    "    objective='binary:logistic',\n",
    "    booster='gbtree',\n",
    "    n_jobs=-1,\n",
    "    nthread=None,\n",
    "    gamma=0,\n",
    "    min_child_weight=1,\n",
    "    max_delta_step=0,\n",
    "    subsample=0.7,\n",
    "    colsample_bytree=1,\n",
    "    colsample_bylevel=1,\n",
    "    colsample_bynode=1,\n",
    "    reg_alpha=0,\n",
    "    reg_lambda=1,\n",
    "    scale_pos_weight=1,\n",
    "    base_score=0.5,\n",
    "    random_state=0,\n",
    "    seed=None,)\n",
    "\n",
    "clf_xgb.fit(X_train, y_train,\n",
    "        eval_set=[(X_valid, y_valid)],\n",
    "        early_stopping_rounds=40,\n",
    "        verbose=10)"
   ]
  },
  {
   "cell_type": "code",
   "execution_count": 32,
   "metadata": {},
   "outputs": [
    {
     "name": "stdout",
     "output_type": "stream",
     "text": [
      "0.9335963387010509\n",
      "0.9243623615745875\n"
     ]
    }
   ],
   "source": [
    "preds = np.array(clf_xgb.predict_proba(X_valid))\n",
    "valid_auc = roc_auc_score(y_score=preds[:,1], y_true=y_valid)\n",
    "print(valid_auc)\n",
    "\n",
    "preds = np.array(clf_xgb.predict_proba(X_test))\n",
    "test_auc = roc_auc_score(y_score=preds[:,1], y_true=y_test)\n",
    "print(test_auc)"
   ]
  },
  {
   "cell_type": "code",
   "execution_count": null,
   "metadata": {},
   "outputs": [],
   "source": []
  }
 ],
 "metadata": {
  "kernelspec": {
   "display_name": "Python 3",
   "language": "python",
   "name": "python3"
  },
  "language_info": {
   "codemirror_mode": {
    "name": "ipython",
    "version": 3
   },
   "file_extension": ".py",
   "mimetype": "text/x-python",
   "name": "python",
   "nbconvert_exporter": "python",
   "pygments_lexer": "ipython3",
   "version": "3.7.15"
  },
  "toc": {
   "base_numbering": 1,
   "nav_menu": {},
   "number_sections": true,
   "sideBar": true,
   "skip_h1_title": false,
   "title_cell": "Table of Contents",
   "title_sidebar": "Contents",
   "toc_cell": false,
   "toc_position": {},
   "toc_section_display": true,
   "toc_window_display": false
  }
 },
 "nbformat": 4,
 "nbformat_minor": 2
}
